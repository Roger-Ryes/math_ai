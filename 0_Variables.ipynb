{
 "cells": [
  {
   "attachments": {},
   "cell_type": "markdown",
   "metadata": {},
   "source": [
    "# Tipos de variables\n",
    "### Variables cualitativas\n",
    "- Nominales: Se les asigna una cualidad, ejm: los colores de un led\n",
    "- Ordinales: Representan un nombre. ejm: La altura de un objeto se puede clasificar como alto, medio o bajo \n",
    "- Binarias: Solo tomas dos valores. ejm: verdadero/caliente, uno/cero\n",
    "\n",
    "### Variables cuantitativas\n",
    "- Discretas: Son finitas y toman ciertos valores, ejm: una persona puede tener 0,1,2 o 3 amigos, nunca 3.5\n",
    "- Continuas: Sus valores pueden verse como infinitos al tomar cualquier valor dentro de los numeros reales en un rango establecido. ejm: Medir la estatura de una persona\n",
    "\n",
    "![title](https://static.platzi.com/media/user_upload/Variables-e57fc8fe-6eb3-43e1-bf18-3362f3ed9da8.jpg)"
   ]
  },
  {
   "attachments": {},
   "cell_type": "markdown",
   "metadata": {},
   "source": [
    "# Dominio y rango de una función\n",
    "¿Que valores pueden tener las funciones?\n",
    "\n",
    "## Dominio de una funcion\n",
    "Son los valores que toma `x` y que estan definidos en la funcion `f(x)`\n",
    "\n",
    "## Rango de una funcion\n",
    "Son todos los resultados que nos pueden dar una funcion"
   ]
  },
  {
   "attachments": {},
   "cell_type": "markdown",
   "metadata": {},
   "source": [
    "# Como leer matematicas: \n",
    "- Simbolos generales\n",
    "- Conjuntos\n",
    "- Conjuntos de numeros\n",
    "\n",
    "    N = {1,2,3,4,5,...| n≠0}\n",
    "\n",
    "    Z = {..., -2,-1,0,1,2,...}\n",
    "\n",
    "    Q = {A/B | A,B ∈ Z, B≠0 }\n",
    "\n",
    "    I = { π, e(Euler), √2 }\n",
    "\n",
    "    R = {N U Z U Q U I}\n",
    "    \n",
    "    R+, R-\n",
    "\n",
    "Ver simbolos_generales.pdf"
   ]
  },
  {
   "attachments": {},
   "cell_type": "markdown",
   "metadata": {},
   "source": [
    "# La regresión lineal simple \n",
    "Prmite aproximar la relación entre dos variables. Se utiliza mucho para predecir un comportamiento de naturaleza lineal."
   ]
  }
 ],
 "metadata": {
  "kernelspec": {
   "display_name": "py39",
   "language": "python",
   "name": "python3"
  },
  "language_info": {
   "codemirror_mode": {
    "name": "ipython",
    "version": 3
   },
   "file_extension": ".py",
   "mimetype": "text/x-python",
   "name": "python",
   "nbconvert_exporter": "python",
   "pygments_lexer": "ipython3",
   "version": "3.9.16"
  },
  "orig_nbformat": 4,
  "vscode": {
   "interpreter": {
    "hash": "d53c12b885b6f88db1e39507e4b02e2f2ce77766b8746f2fc112c18fdd4904ad"
   }
  }
 },
 "nbformat": 4,
 "nbformat_minor": 2
}
